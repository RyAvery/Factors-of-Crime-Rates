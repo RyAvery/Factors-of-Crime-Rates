{
 "cells": [
  {
   "cell_type": "code",
   "execution_count": null,
   "id": "cbd40b10",
   "metadata": {},
   "outputs": [],
   "source": []
  },
  {
   "cell_type": "code",
   "execution_count": null,
   "id": "bab7d48a",
   "metadata": {},
   "outputs": [],
   "source": [
    "# Statisctics for each city from the census and crimes"
   ]
  },
  {
   "cell_type": "code",
   "execution_count": null,
   "id": "bb54c34b",
   "metadata": {},
   "outputs": [],
   "source": [
    "## Heatmap for each city & Bar and Pie Chart\n",
    "\n",
    "# Generate a bar plot showing the total number\n",
    "\n",
    "\n",
    "# Generate the bar plot, title, and x/y labels\n",
    "\n",
    "\n",
    "# Display the bar chart\n",
    "plt.show()\n"
   ]
  },
  {
   "cell_type": "code",
   "execution_count": null,
   "id": "d49df4ca",
   "metadata": {},
   "outputs": [],
   "source": [
    "## Correlation and Regression (crime vs poverty rate/ education level\"bachelor's degree)\n",
    "# Calculate the correlation coefficient and linear regression model \n",
    "\n",
    "# Define x, y values\n",
    "\n",
    "# Calculate the correlation\n",
    "\n",
    "correlation = round(st.pearsonr(x_values, y_values)[0],2)\n",
    "print(f'The correlation between crime and poverty rate is {correlation}' )\n",
    "\n",
    "# Calculate the linear regression values\n",
    "(slope, intercept, r, p, stderr) = st.linregress(x_values, y_values)\n",
    "\n",
    "# Calculate r²\n",
    "r_sq = round(r**2,2)\n",
    "print(f'The r² is : {r_sq}' )\n",
    "\n",
    "# y= ax+b\n",
    "regress_values = x_values*slope+intercept\n",
    "line_eq = 'y = ' + str(round(slope,2)) + 'x + ' + str(round(intercept))\n",
    "\n",
    "# plot the scatter chart with linear regression line, equation of line\n",
    "plt.scatter(x_values, y_values)\n",
    "plt.plot(x_values, regress_values, color='red', label= \"y={:.2f}x+{:.2f}\".format(slope,intercept))\n",
    "\n",
    "# Set x/y label & legend\n",
    "plt.xlabel(\"poverty rate\")\n",
    "plt.ylabel(\"Number of crimes\")\n",
    "plt.legend()"
   ]
  },
  {
   "cell_type": "code",
   "execution_count": null,
   "id": "533b640a",
   "metadata": {},
   "outputs": [],
   "source": []
  }
 ],
 "metadata": {
  "kernelspec": {
   "display_name": "Python 3 (ipykernel)",
   "language": "python",
   "name": "python3"
  },
  "language_info": {
   "codemirror_mode": {
    "name": "ipython",
    "version": 3
   },
   "file_extension": ".py",
   "mimetype": "text/x-python",
   "name": "python",
   "nbconvert_exporter": "python",
   "pygments_lexer": "ipython3",
   "version": "3.9.7"
  }
 },
 "nbformat": 4,
 "nbformat_minor": 5
}
