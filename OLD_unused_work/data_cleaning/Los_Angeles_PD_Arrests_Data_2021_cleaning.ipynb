{
 "cells": [
  {
   "cell_type": "code",
   "execution_count": 1,
   "id": "48aaa493",
   "metadata": {},
   "outputs": [],
   "source": [
    "# Add Matplotlib inline magic command\n",
    "%matplotlib inline\n",
    "%matplotlib notebook\n",
    "# Dependencies and Setup\n",
    "import os\n",
    "import pandas as pd\n",
    "from datetime import datetime as dt\n",
    "import matplotlib.pyplot as plt\n",
    "# Import the style from Matplotlib.\n",
    "from matplotlib import style\n",
    "# File to Load\n",
    "lapd_arrests_data_to_load = os.path.join('..', 'resources', 'OLD', 'Los_Angeles_PD_Arrest_Data_2020_to_Present.csv')"
   ]
  },
  {
   "cell_type": "code",
   "execution_count": 2,
   "id": "1280a701",
   "metadata": {},
   "outputs": [
    {
     "data": {
      "text/html": [
       "<div>\n",
       "<style scoped>\n",
       "    .dataframe tbody tr th:only-of-type {\n",
       "        vertical-align: middle;\n",
       "    }\n",
       "\n",
       "    .dataframe tbody tr th {\n",
       "        vertical-align: top;\n",
       "    }\n",
       "\n",
       "    .dataframe thead th {\n",
       "        text-align: right;\n",
       "    }\n",
       "</style>\n",
       "<table border=\"1\" class=\"dataframe\">\n",
       "  <thead>\n",
       "    <tr style=\"text-align: right;\">\n",
       "      <th></th>\n",
       "      <th>Report ID</th>\n",
       "      <th>Report Type</th>\n",
       "      <th>Arrest Date</th>\n",
       "      <th>Time</th>\n",
       "      <th>Area ID</th>\n",
       "      <th>Area Name</th>\n",
       "      <th>Reporting District</th>\n",
       "      <th>Age</th>\n",
       "      <th>Sex Code</th>\n",
       "      <th>Descent Code</th>\n",
       "      <th>...</th>\n",
       "      <th>Disposition Description</th>\n",
       "      <th>Address</th>\n",
       "      <th>Cross Street</th>\n",
       "      <th>LAT</th>\n",
       "      <th>LON</th>\n",
       "      <th>Location</th>\n",
       "      <th>Booking Date</th>\n",
       "      <th>Booking Time</th>\n",
       "      <th>Booking Location</th>\n",
       "      <th>Booking Location Code</th>\n",
       "    </tr>\n",
       "  </thead>\n",
       "  <tbody>\n",
       "    <tr>\n",
       "      <th>0</th>\n",
       "      <td>211517634</td>\n",
       "      <td>RFC</td>\n",
       "      <td>11/16/2021 12:00:00 AM</td>\n",
       "      <td>0830</td>\n",
       "      <td>15</td>\n",
       "      <td>N Hollywood</td>\n",
       "      <td>1535</td>\n",
       "      <td>57</td>\n",
       "      <td>M</td>\n",
       "      <td>W</td>\n",
       "      <td>...</td>\n",
       "      <td>MISDEMEANOR COMPLAINT FILED</td>\n",
       "      <td>LANKERSHIM</td>\n",
       "      <td>CALIFA</td>\n",
       "      <td>34.1775</td>\n",
       "      <td>-118.3822</td>\n",
       "      <td>POINT (-118.3822 34.1775)</td>\n",
       "      <td>NaN</td>\n",
       "      <td>NaN</td>\n",
       "      <td>NaN</td>\n",
       "      <td>NaN</td>\n",
       "    </tr>\n",
       "  </tbody>\n",
       "</table>\n",
       "<p>1 rows × 25 columns</p>\n",
       "</div>"
      ],
      "text/plain": [
       "   Report ID Report Type             Arrest Date  Time  Area ID    Area Name  \\\n",
       "0  211517634         RFC  11/16/2021 12:00:00 AM  0830       15  N Hollywood   \n",
       "\n",
       "   Reporting District  Age Sex Code Descent Code  ...  \\\n",
       "0                1535   57        M            W  ...   \n",
       "\n",
       "       Disposition Description     Address Cross Street      LAT       LON  \\\n",
       "0  MISDEMEANOR COMPLAINT FILED  LANKERSHIM       CALIFA  34.1775 -118.3822   \n",
       "\n",
       "                    Location Booking Date Booking Time  Booking Location  \\\n",
       "0  POINT (-118.3822 34.1775)          NaN          NaN               NaN   \n",
       "\n",
       "   Booking Location Code  \n",
       "0                    NaN  \n",
       "\n",
       "[1 rows x 25 columns]"
      ]
     },
     "execution_count": 2,
     "metadata": {},
     "output_type": "execute_result"
    }
   ],
   "source": [
    "# Reading Los_Angeles_PD_Arrest_Data_2020_to_Present.csv into a dataframe\n",
    "lapd_arrests_data_df = pd.read_csv(lapd_arrests_data_to_load, encoding='cp1252', converters={'Time': str})\n",
    "lapd_arrests_data_df.head(1)"
   ]
  },
  {
   "cell_type": "code",
   "execution_count": 3,
   "id": "d0761649",
   "metadata": {},
   "outputs": [
    {
     "name": "stdout",
     "output_type": "stream",
     "text": [
      "<class 'pandas.core.frame.DataFrame'>\n",
      "RangeIndex: 198736 entries, 0 to 198735\n",
      "Data columns (total 25 columns):\n",
      " #   Column                    Non-Null Count   Dtype  \n",
      "---  ------                    --------------   -----  \n",
      " 0   Report ID                 198736 non-null  int64  \n",
      " 1   Report Type               198736 non-null  object \n",
      " 2   Arrest Date               198736 non-null  object \n",
      " 3   Time                      198736 non-null  object \n",
      " 4   Area ID                   198736 non-null  int64  \n",
      " 5   Area Name                 198736 non-null  object \n",
      " 6   Reporting District        198736 non-null  int64  \n",
      " 7   Age                       198736 non-null  int64  \n",
      " 8   Sex Code                  198736 non-null  object \n",
      " 9   Descent Code              198736 non-null  object \n",
      " 10  Charge Group Code         182953 non-null  float64\n",
      " 11  Charge Group Description  182922 non-null  object \n",
      " 12  Arrest Type Code          198735 non-null  object \n",
      " 13  Charge                    198736 non-null  object \n",
      " 14  Charge Description        182953 non-null  object \n",
      " 15  Disposition Description   184552 non-null  object \n",
      " 16  Address                   198736 non-null  object \n",
      " 17  Cross Street              98092 non-null   object \n",
      " 18  LAT                       198736 non-null  float64\n",
      " 19  LON                       198736 non-null  float64\n",
      " 20  Location                  198736 non-null  object \n",
      " 21  Booking Date              158578 non-null  object \n",
      " 22  Booking Time              158578 non-null  float64\n",
      " 23  Booking Location          158551 non-null  object \n",
      " 24  Booking Location Code     158574 non-null  float64\n",
      "dtypes: float64(5), int64(4), object(16)\n",
      "memory usage: 37.9+ MB\n"
     ]
    }
   ],
   "source": [
    "# Checking NaNs and column Dtype\n",
    "lapd_arrests_data_df.info()"
   ]
  },
  {
   "cell_type": "code",
   "execution_count": 4,
   "id": "e0748817",
   "metadata": {},
   "outputs": [
    {
     "data": {
      "text/plain": [
       "0         2021/11/16\n",
       "1         2021/09/01\n",
       "2         2022/03/17\n",
       "3         2021/09/20\n",
       "4         2021/07/27\n",
       "             ...    \n",
       "198731    2022/10/25\n",
       "198732    2022/11/30\n",
       "198733    2022/10/03\n",
       "198734    2022/09/26\n",
       "198735    2022/10/05\n",
       "Name: Arrest Date, Length: 198736, dtype: object"
      ]
     },
     "execution_count": 4,
     "metadata": {},
     "output_type": "execute_result"
    }
   ],
   "source": [
    "# Formated object 'Arrest Date' datetime into year/month/day\n",
    "lapd_arrests_data_df['Arrest Date'] = pd.to_datetime(lapd_arrests_data_df['Arrest Date'], \n",
    "                                                     errors='coerce').dt.strftime('%Y/%m/%d')\n",
    "#lapd_arrests_data_df['Arrest Date'] = lapd_arrests_data_df['Arrest Date'].dt.strftime('%Y/%m/%d')\n",
    "lapd_arrests_data_df['Arrest Date']"
   ]
  },
  {
   "cell_type": "code",
   "execution_count": 5,
   "id": "b1b5f123",
   "metadata": {},
   "outputs": [
    {
     "data": {
      "text/plain": [
       "0           NaN\n",
       "1           NaN\n",
       "2           NaN\n",
       "3         00:00\n",
       "4           NaN\n",
       "          ...  \n",
       "198731      NaN\n",
       "198732      NaN\n",
       "198733      NaN\n",
       "198734      NaN\n",
       "198735      NaN\n",
       "Name: Time, Length: 198736, dtype: object"
      ]
     },
     "execution_count": 5,
     "metadata": {},
     "output_type": "execute_result"
    }
   ],
   "source": [
    "# Formated object 'Time' datetime into hour:minute\n",
    "lapd_arrests_data_df['Time'] = pd.to_datetime(lapd_arrests_data_df['Time'],\n",
    "                                                   errors='coerce').dt.strftime('%H:%M')\n",
    "lapd_arrests_data_df['Time']"
   ]
  },
  {
   "cell_type": "code",
   "execution_count": 6,
   "id": "2828eaa0",
   "metadata": {},
   "outputs": [
    {
     "data": {
      "text/plain": [
       "0               NaT\n",
       "1               NaT\n",
       "2               NaT\n",
       "3        2021-09-20\n",
       "4               NaT\n",
       "            ...    \n",
       "198731          NaT\n",
       "198732          NaT\n",
       "198733          NaT\n",
       "198734          NaT\n",
       "198735          NaT\n",
       "Name: Report Datetime, Length: 198736, dtype: datetime64[ns]"
      ]
     },
     "execution_count": 6,
     "metadata": {},
     "output_type": "execute_result"
    }
   ],
   "source": [
    "# Added new series to DataFrame that combines objects ['Arrest Date'] and ['Time'] into datetime64 ['Report Datetime']\n",
    "lapd_arrests_data_df['Report Datetime'] = lapd_arrests_data_df['Arrest Date'] + ' ' + lapd_arrests_data_df['Time']\n",
    "lapd_arrests_data_df['Report Datetime'] = pd.to_datetime(lapd_arrests_data_df['Report Datetime'],\n",
    "                                                         errors='coerce',\n",
    "                                                         dayfirst=True,)\n",
    "# Code bellow format series and coverts it into string(dont really want that for now)\n",
    "#lapd_arrests_data_df['Datetime'] = lapd_arrests_data_df['Report Datetime'].dt.strftime('%d/%m/%Y %H:%M')\n",
    "lapd_arrests_data_df['Report Datetime']"
   ]
  },
  {
   "cell_type": "code",
   "execution_count": 7,
   "id": "17f1d94f",
   "metadata": {},
   "outputs": [
    {
     "data": {
      "text/plain": [
       "0         (34.1775,-118.3822)\n",
       "1         (33.9996,-118.2915)\n",
       "2          (34.2037,-118.421)\n",
       "3                   (0.0,0.0)\n",
       "4         (34.2388,-118.4677)\n",
       "                 ...         \n",
       "198731    (33.9345,-118.2623)\n",
       "198732    (34.0601,-118.2761)\n",
       "198733    (34.0273,-118.3622)\n",
       "198734    (34.2576,-118.5067)\n",
       "198735     (34.0957,-118.331)\n",
       "Name: Coordinates, Length: 198736, dtype: object"
      ]
     },
     "execution_count": 7,
     "metadata": {},
     "output_type": "execute_result"
    }
   ],
   "source": [
    "# Added new series to DataFrame by using list comprehension and zipping ['LAT'] and ['LON'] into standard coordinate order ['Coordinates']\n",
    "#x = [f'({a},{b})' for a, b in zip(df[\"a\"], df[\"b\"])]\n",
    "lapd_arrests_data_df['Coordinates'] = [f'({a},{b})' for a, b in zip(lapd_arrests_data_df['LAT'], lapd_arrests_data_df['LON'])]\n",
    "lapd_arrests_data_df['Coordinates']"
   ]
  },
  {
   "cell_type": "code",
   "execution_count": 8,
   "id": "7733c10d",
   "metadata": {},
   "outputs": [
    {
     "name": "stdout",
     "output_type": "stream",
     "text": [
      "<class 'pandas.core.frame.DataFrame'>\n",
      "Int64Index: 22895 entries, 69575 to 174124\n",
      "Data columns (total 11 columns):\n",
      " #   Column                    Non-Null Count  Dtype         \n",
      "---  ------                    --------------  -----         \n",
      " 0   Report ID                 22895 non-null  int64         \n",
      " 1   Report Datetime           22895 non-null  datetime64[ns]\n",
      " 2   Age                       22895 non-null  int64         \n",
      " 3   Sex Code                  22895 non-null  object        \n",
      " 4   Charge Group Description  21508 non-null  object        \n",
      " 5   Charge Description        21510 non-null  object        \n",
      " 6   Area Name                 22895 non-null  object        \n",
      " 7   Address                   22895 non-null  object        \n",
      " 8   LAT                       22895 non-null  float64       \n",
      " 9   LON                       22895 non-null  float64       \n",
      " 10  Coordinates               22895 non-null  object        \n",
      "dtypes: datetime64[ns](1), float64(2), int64(2), object(6)\n",
      "memory usage: 2.1+ MB\n"
     ]
    }
   ],
   "source": [
    "# Created sorted DataFrame that contains all reports from 2021, also only picked the columns needed for analysis\n",
    "lapd_arrests_data_2021_df = lapd_arrests_data_df.loc[(lapd_arrests_data_df['Report Datetime']>='2021/01/01') & \n",
    "                                                     (lapd_arrests_data_df['Report Datetime']<='2021/12/31'), \n",
    "                                                     ['Report ID', 'Report Datetime', 'Age',\n",
    "                                                      'Sex Code', 'Charge Group Description', 'Charge Description', \n",
    "                                                      'Area Name', 'Address', 'LAT', 'LON', 'Coordinates']].sort_values(by='Report Datetime').copy()\n",
    "lapd_arrests_data_2021_df.info()"
   ]
  },
  {
   "cell_type": "code",
   "execution_count": 9,
   "id": "5669a035",
   "metadata": {},
   "outputs": [
    {
     "ename": "SyntaxError",
     "evalue": "invalid syntax (2672568501.py, line 5)",
     "output_type": "error",
     "traceback": [
      "\u001b[1;36m  File \u001b[1;32m\"C:\\Users\\raver\\AppData\\Local\\Temp\\ipykernel_9072\\2672568501.py\"\u001b[1;36m, line \u001b[1;32m5\u001b[0m\n\u001b[1;33m    'Sex Code':'Sex',\u001b[0m\n\u001b[1;37m              ^\u001b[0m\n\u001b[1;31mSyntaxError\u001b[0m\u001b[1;31m:\u001b[0m invalid syntax\n"
     ]
    }
   ],
   "source": [
    "# Renaming columns to make more uniform\n",
    "lapd_arrests_data_2021_df = lapd_arrests_data_2021_df.rename(columns={'Report ID':'Report ID',\n",
    "                                                                      'Report Datetime':'Report Datetime',\n",
    "                                                                      'Age':'Age'\n",
    "                                                                      'Sex Code':'Sex',\n",
    "                                                                      'Charge Group Description':'Charge',\n",
    "                                                                      'Charge Description':'Charge Description',\n",
    "                                                                      'Area Name':'Neighborhood',\n",
    "                                                                      'Address':'Address',\n",
    "                                                                      'LAT':'Lat',\n",
    "                                                                      'LON':'Lon'})"
   ]
  },
  {
   "cell_type": "code",
   "execution_count": null,
   "id": "71085aab",
   "metadata": {},
   "outputs": [],
   "source": [
    "lapd_arrests_data_2021_df.dropna(subset=['Charge','Charge Description'], thresh=2, inplace=True)"
   ]
  },
  {
   "cell_type": "code",
   "execution_count": null,
   "id": "7c2c069b",
   "metadata": {
    "scrolled": true
   },
   "outputs": [],
   "source": [
    "# Reset index to 0 and drop old index column\n",
    "lapd_arrests_data_2021_df.reset_index(drop=True, inplace=True)\n",
    "lapd_arrests_data_2021_df.index.values\n"
   ]
  },
  {
   "cell_type": "code",
   "execution_count": null,
   "id": "ee2352fe",
   "metadata": {
    "scrolled": true
   },
   "outputs": [],
   "source": [
    "# Double checking NaNs and column Dtype\n",
    "lapd_arrests_data_2021_df.info()"
   ]
  },
  {
   "cell_type": "code",
   "execution_count": null,
   "id": "22565c99",
   "metadata": {},
   "outputs": [],
   "source": [
    "# Print final DataFrame\n",
    "pd.set_option('display.max_columns', None)\n",
    "pd.set_option('display.max_rows', None)\n",
    "lapd_arrests_data_2021_df.head(500)"
   ]
  },
  {
   "cell_type": "code",
   "execution_count": null,
   "id": "a4778ba5",
   "metadata": {},
   "outputs": [],
   "source": [
    "Los_Angeles_PD_Arrests_Data_2021_clean_csv = os.path.join('..', 'resources', 'Cleaned', 'Los_Angeles_PD_Arrest_Data_2021_clean.csv')\n",
    "lapd_arrests_data_2021_df.to_csv(Los_Angeles_PD_Arrests_Data_2021_clean_csv, index=False, encoding='ISO=8859-1')"
   ]
  }
 ],
 "metadata": {
  "kernelspec": {
   "display_name": "Python 3 (ipykernel)",
   "language": "python",
   "name": "python3"
  },
  "language_info": {
   "codemirror_mode": {
    "name": "ipython",
    "version": 3
   },
   "file_extension": ".py",
   "mimetype": "text/x-python",
   "name": "python",
   "nbconvert_exporter": "python",
   "pygments_lexer": "ipython3",
   "version": "3.7.13"
  }
 },
 "nbformat": 4,
 "nbformat_minor": 5
}
