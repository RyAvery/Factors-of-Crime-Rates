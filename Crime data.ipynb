{
 "cells": [
  {
   "cell_type": "code",
   "execution_count": 1,
   "id": "01252ea8",
   "metadata": {},
   "outputs": [],
   "source": [
    "#import Dependencies\n",
    "import pandas as pd\n",
    "import numpy as np\n",
    "import json\n",
    "import requests\n",
    "import matplotlib.pyplot as plt\n",
    "from census import Census\n",
    "import warnings\n",
    "warnings.filterwarnings(\"ignore\")"
   ]
  },
  {
   "cell_type": "code",
   "execution_count": 22,
   "id": "32953ea1",
   "metadata": {},
   "outputs": [],
   "source": [
    "# Crime Data Chicago\n",
    "chicago_url = \"https://data.cityofchicago.org/resource/crimes.json\"\n",
    "\n",
    "chicago_response = requests.get(chicago_url).json()\n",
    "chicago_df=pd.DataFrame(chicago_response)"
   ]
  },
  {
   "cell_type": "code",
   "execution_count": 24,
   "id": "5fdcdd87",
   "metadata": {},
   "outputs": [],
   "source": [
    "# Crime Data from 2010 to 2019 LA\n",
    "\n",
    "la_url=\"https://data.lacity.org/resource/63jg-8b9z.json\"\n",
    "\n",
    "la_response= requests.get(la_url).json()\n",
    "la_df=pd.DataFrame(la_response)"
   ]
  },
  {
   "cell_type": "code",
   "execution_count": 26,
   "id": "20c79be5",
   "metadata": {},
   "outputs": [],
   "source": [
    "# Crime Data from 2020 to Present\n",
    "\n",
    "la_updated_url=\"https://data.lacity.org/resource/2nrs-mtv8.json\"\n",
    "\n",
    "la_updated_response= requests.get(la_updated_url).json()\n",
    "la_updated_df=pd.DataFrame(la_updated_response)"
   ]
  },
  {
   "cell_type": "code",
   "execution_count": 28,
   "id": "a736b00f",
   "metadata": {},
   "outputs": [],
   "source": [
    "# NYPD Complaint Data Historic period 2006 until the end of last year\n",
    "\n",
    "nyc_url =\"https://data.cityofnewyork.us/resource/qgea-i56i.json\"\n",
    "nyc_response= requests.get(nyc_url).json()\n",
    "nyc_df=pd.DataFrame(nyc_response)"
   ]
  },
  {
   "cell_type": "code",
   "execution_count": 29,
   "id": "475f2ec8",
   "metadata": {},
   "outputs": [],
   "source": [
    "# NYPD Complaint Data Historic period current year\n",
    "\n",
    "nyc_updated_url =\"https://data.cityofnewyork.us/resource/5uac-w243.json\"\n",
    "nyc_updated_response= requests.get(nyc_updated_url).json()\n",
    "nyc_updated_df=pd.DataFrame(nyc_updated_response)"
   ]
  },
  {
   "cell_type": "code",
   "execution_count": 30,
   "id": "6911499f",
   "metadata": {},
   "outputs": [],
   "source": [
    "# Police Department Incident Reports: Historical 2003 to May 2018\n",
    "\n",
    "sf_url=\"https://data.sfgov.org/resource/tmnf-yvry.json\"\n",
    "sf_response= requests.get(sf_url).json()\n",
    "sf_df=pd.DataFrame(sf_response)"
   ]
  },
  {
   "cell_type": "code",
   "execution_count": 31,
   "id": "d228688e",
   "metadata": {},
   "outputs": [],
   "source": [
    "# Police Department Incident Reports: 2018 to Present\n",
    "\n",
    "sf_updated_url=\"https://data.sfgov.org/resource/wg3w-h783.json\"\n",
    "sf_updated_response= requests.get(sf_updated_url).json()\n",
    "sf_updated_df=pd.DataFrame(sf_updated_response)"
   ]
  },
  {
   "cell_type": "code",
   "execution_count": 32,
   "id": "eba8c0c0",
   "metadata": {},
   "outputs": [],
   "source": [
    "# SPD Crime Data: 2008-Present\n",
    "\n",
    "seattle_url=\"https://data.seattle.gov/resource/tazs-3rd5.json\"\n",
    "seattle_response= requests.get(seattle_url).json()\n",
    "seattle_df=pd.DataFrame(seattle_response)"
   ]
  },
  {
   "cell_type": "code",
   "execution_count": null,
   "id": "4a9fb89b",
   "metadata": {},
   "outputs": [],
   "source": []
  }
 ],
 "metadata": {
  "kernelspec": {
   "display_name": "Python 3 (ipykernel)",
   "language": "python",
   "name": "python3"
  },
  "language_info": {
   "codemirror_mode": {
    "name": "ipython",
    "version": 3
   },
   "file_extension": ".py",
   "mimetype": "text/x-python",
   "name": "python",
   "nbconvert_exporter": "python",
   "pygments_lexer": "ipython3",
   "version": "3.9.7"
  }
 },
 "nbformat": 4,
 "nbformat_minor": 5
}
